{
  "nbformat": 4,
  "nbformat_minor": 0,
  "metadata": {
    "colab": {
      "name": "aiku.ipynb",
      "private_outputs": true,
      "provenance": []
    },
    "kernelspec": {
      "name": "python3",
      "display_name": "Python 3"
    },
    "language_info": {
      "name": "python"
    },
    "accelerator": "GPU"
  },
  "cells": [
    {
      "cell_type": "code",
      "metadata": {
        "id": "l58gywRDu8PC"
      },
      "source": [
        "%cd /content\n",
        "!git clone https://github.com/brunovianna/aiku.git\n"
      ],
      "execution_count": null,
      "outputs": []
    },
    {
      "cell_type": "code",
      "metadata": {
        "id": "rzN2s2TH1_b3"
      },
      "source": [
        "from google.colab import drive\n",
        "drive.mount('/content/drive')"
      ],
      "execution_count": null,
      "outputs": []
    },
    {
      "cell_type": "code",
      "metadata": {
        "id": "2rKu6QYw2BS_"
      },
      "source": [
        "!mkdir -p /content/aiku/haiku_gpt-2/models/345M/\n",
        "!cp /content/drive/MyDrive/gpt-2/haiku/* /content/aiku/haiku_gpt-2/models/345M/"
      ],
      "execution_count": null,
      "outputs": []
    },
    {
      "cell_type": "code",
      "metadata": {
        "id": "4JwCjG_O4BIT"
      },
      "source": [
        "!pip3 install -r /content/aiku/haiku_gpt-2/requirements.txt"
      ],
      "execution_count": null,
      "outputs": []
    },
    {
      "cell_type": "code",
      "metadata": {
        "id": "QVv6GU6dkJjc"
      },
      "source": [
        "!mkdir /content/ngrok\n",
        "%cd /content/ngrok\n",
        "!wget https://bin.equinox.io/c/4VmDzA7iaHb/ngrok-stable-linux-amd64.zip -O ngrok-stable-linux-amd64.zip\n",
        "!unzip -u ngrok-stable-linux-amd64.zip\n",
        "!chmod +x /content/ngrok/ngrok\n"
      ],
      "execution_count": null,
      "outputs": []
    },
    {
      "cell_type": "code",
      "metadata": {
        "id": "qpNjneqjxK5Z"
      },
      "source": [
        "%%writefile /content/ngrok/http8070.yml\n",
        "tunnels:\n",
        "  http8070:\n",
        "    proto: http\n",
        "    addr: 8070\n",
        "    inspect: false\n",
        "    bind_tls: true"
      ],
      "execution_count": null,
      "outputs": []
    },
    {
      "cell_type": "code",
      "metadata": {
        "id": "UPqVWMCk0TPb"
      },
      "source": [
        "!/content/ngrok/ngrok authtoken 4DWwVnfUXwx2z6roSj27d_7VgLZsPQTYnkdCeTfyfXs\n",
        "get_ipython().system_raw('/content/ngrok/ngrok start --config /content/ngrok/http8070.yml --log=/content/ngrok/ngrok.log http8070 &')\n",
        "!cat /content/ngrok/ngrok.log|grep url"
      ],
      "execution_count": null,
      "outputs": []
    },
    {
      "cell_type": "code",
      "metadata": {
        "id": "IcCjt4hI3O8T"
      },
      "source": [
        "!ps aux | grep ngrok"
      ],
      "execution_count": null,
      "outputs": []
    },
    {
      "cell_type": "code",
      "metadata": {
        "id": "-udtCdqz5wfD"
      },
      "source": [
        "%cd /content/aiku/haiku_gpt-2/\n",
        "!python3 src/haiku_server.py"
      ],
      "execution_count": null,
      "outputs": []
    }
  ]
}